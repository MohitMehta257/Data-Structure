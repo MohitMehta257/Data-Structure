{
 "cells": [
  {
   "cell_type": "markdown",
   "metadata": {},
   "source": []
  },
  {
   "cell_type": "code",
   "execution_count": 25,
   "metadata": {},
   "outputs": [],
   "source": [
    "import hashlib\n",
    "import datetime as dt\n",
    "\n",
    "\n",
    "class Block:\n",
    "\n",
    "    def __init__(self, timestamp, data, previous_hash):\n",
    "      self.timestamp = timestamp\n",
    "      self.data = data\n",
    "      self.previous_hash = previous_hash\n",
    "      self.hash = self.calc_hash()\n",
    "        \n",
    "    def calc_hash(self):\n",
    "      sha = hashlib.sha256()\n",
    "\n",
    "      hash_str = \"We are going to encode this string of data!\".encode('utf-8')\n",
    "\n",
    "      sha.update(hash_str)\n",
    "\n",
    "      return sha.hexdigest()\n",
    "    \n",
    "\n",
    "def get_time():\n",
    "    time=dt.datetime.now()\n",
    "    return time\n",
    "    \n",
    "class LinkedList:\n",
    "        def __init__(self):\n",
    "            self.head=None\n",
    "            self.next=None\n",
    "        def append(self,timestamp,data):\n",
    "            if self.head is None:\n",
    "                self.head = Block(timestamp,data,0)\n",
    "                return\n",
    "            else:\n",
    "                value=self.next\n",
    "                self.next = Block(timestamp, data, value)\n",
    "                \n",
    "\n"
   ]
  },
  {
   "cell_type": "code",
   "execution_count": 27,
   "metadata": {},
   "outputs": [
    {
     "name": "stdout",
     "output_type": "stream",
     "text": [
      "Books Name\n",
      "a20200a94c75010576e2d6a83e6fa69271901a9d805894b28bd91e6054fbfd10\n",
      "2020-05-16 16:05:55.271730\n",
      "Books Name\n",
      "Corona\n"
     ]
    }
   ],
   "source": [
    "block0 = Block(get_time(), \"Books Name\", 0)\n",
    "block1 = Block(get_time(), \"Important Info\", block0)\n",
    "block2 = Block(get_time(), \"Corona\", block1)\n",
    "\n",
    "print(block0.data)\n",
    "print(block2.hash)\n",
    "print(block0.timestamp)\n",
    "print(block1.previous_hash.data)\n",
    "print(block2.data)"
   ]
  },
  {
   "cell_type": "code",
   "execution_count": null,
   "metadata": {},
   "outputs": [],
   "source": []
  }
 ],
 "metadata": {
  "kernelspec": {
   "display_name": "Python 3",
   "language": "python",
   "name": "python3"
  },
  "language_info": {
   "codemirror_mode": {
    "name": "ipython",
    "version": 3
   },
   "file_extension": ".py",
   "mimetype": "text/x-python",
   "name": "python",
   "nbconvert_exporter": "python",
   "pygments_lexer": "ipython3",
   "version": "3.7.4"
  }
 },
 "nbformat": 4,
 "nbformat_minor": 2
}
