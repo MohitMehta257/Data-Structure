{
 "cells": [
  {
   "cell_type": "code",
   "execution_count": null,
   "metadata": {},
   "outputs": [],
   "source": [
    "class Queue:\n",
    "    def __init__(self):\n",
    "        self.storage=[]\n",
    "         # TODO: Initialize the Queue\n",
    "    \n",
    "    def size(self):\n",
    "         # TODO: Check the size of the Queue\n",
    "            return len(self.storage)\n",
    "    \n",
    "    def enqueue(self, item):\n",
    "        self.storage.append(item)\n",
    "         # TODO: Enter item into Queue\n",
    "\n",
    "    def dequeue(self):\n",
    "        self.storage.pop(0)\n",
    "         # TODO: Remove item from the Queue\n",
    "            "
   ]
  }
 ],
 "metadata": {
  "kernelspec": {
   "display_name": "Python 3",
   "language": "python",
   "name": "python3"
  },
  "language_info": {
   "codemirror_mode": {
    "name": "ipython",
    "version": 3
   },
   "file_extension": ".py",
   "mimetype": "text/x-python",
   "name": "python",
   "nbconvert_exporter": "python",
   "pygments_lexer": "ipython3",
   "version": "3.7.4"
  }
 },
 "nbformat": 4,
 "nbformat_minor": 2
}
