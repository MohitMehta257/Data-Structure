{
 "cells": [
  {
   "cell_type": "code",
   "execution_count": null,
   "metadata": {},
   "outputs": [],
   "source": [
    "# Recursive Solution\n",
    "\n",
    "def deep_reverse(arr):\n",
    "    \n",
    "    # Terminaiton / Base condition\n",
    "    if len(arr) < 1:\n",
    "        return arr\n",
    "\n",
    "    reversed_items = []  # final list to be returned\n",
    "    \n",
    "    '''Traverse the given list (array) in the reverse direction using extended slice.'''\n",
    "    # For a given list, sample syntax are - myList[1:10:2], myList[:-1:1], myList[::-1]\n",
    "    # The first argument is the starting index of the slice (inclusive),\n",
    "    # second argument is the ending index of the slice (exclusive),\n",
    "    # third argument is the increment/decrement step size.\n",
    "    # If we do not specify an argument, it means to consider all elements from that end of the list. \n",
    "    for item in arr[::-1]:\n",
    "        \n",
    "        # If this item is a list itself, invoke deep_reverse to reverse the items recursively.\n",
    "        if type(item) is list:\n",
    "            item = deep_reverse(item)\n",
    "        \n",
    "        # append the item to the final list\n",
    "        reversed_items.append(item)\n",
    "\n",
    "    return reversed_items"
   ]
  }
 ],
 "metadata": {
  "kernelspec": {
   "display_name": "Python 3",
   "language": "python",
   "name": "python3"
  },
  "language_info": {
   "codemirror_mode": {
    "name": "ipython",
    "version": 3
   },
   "file_extension": ".py",
   "mimetype": "text/x-python",
   "name": "python",
   "nbconvert_exporter": "python",
   "pygments_lexer": "ipython3",
   "version": "3.7.4"
  }
 },
 "nbformat": 4,
 "nbformat_minor": 2
}
