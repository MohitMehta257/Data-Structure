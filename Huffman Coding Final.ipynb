{
 "cells": [
  {
   "cell_type": "code",
   "execution_count": 73,
   "metadata": {},
   "outputs": [],
   "source": [
    "import sys\n",
    "global huff\n",
    "def huffman_encoding(data):\n",
    "    char=[]\n",
    "    for each in data:\n",
    "        if(char.count(each)==0):\n",
    "            char.append(each)\n",
    "    freq=[]\n",
    "    for each in char:\n",
    "        freq.append(data.count(each))\n",
    "    huff={}\n",
    "    j=0\n",
    "    for i in char:\n",
    "        huff[i]=freq[j]\n",
    "        j+=1\n",
    "    hufftree={}\n",
    "    temp='1'\n",
    "    for num in sorted(huff.items(), key=lambda x:x[1]):\n",
    "        hufftree[num[0]]=temp\n",
    "        temp='0'+temp\n",
    "        \n",
    "    encode=''\n",
    "    for each in data:\n",
    "        encode+=hufftree[each]\n",
    "    return encode, hufftree\n",
    "def huffman_decoding(data,tree):\n",
    "    huff = {}\n",
    "    for char in tree:\n",
    "        huff[tree[char]] = char\n",
    "\n",
    "    temp = ''\n",
    "    decode = ''\n",
    "    for d in data:\n",
    "        if d == '1':\n",
    "            decode += huff[temp + d]\n",
    "            temp = ''\n",
    "        else:\n",
    "            temp += d\n",
    "    return decode\n",
    "\n",
    "        \n",
    "    \n",
    "        \n",
    "    \n",
    "\n",
    "\n",
    "    \n",
    "        "
   ]
  },
  {
   "cell_type": "code",
   "execution_count": 74,
   "metadata": {},
   "outputs": [
    {
     "name": "stdout",
     "output_type": "stream",
     "text": [
      "The size of the data is: 69\n",
      "\n",
      "The content of the data is: The bird is the word\n",
      "\n",
      "The size of the encoded data is: 48\n",
      "\n",
      "The content of the encoded data is: 100000010000000100000000000101000000001000000000100000000001000000000001000000001001000000000001000100000010000000100000000000100001000001000000000100000000001\n",
      "\n",
      "The size of the decoded data is: 69\n",
      "\n",
      "The content of the encoded data is: The bird is the word\n",
      "\n"
     ]
    }
   ],
   "source": [
    "if __name__ == \"__main__\":\n",
    "    codes = {}\n",
    "\n",
    "    a_great_sentence = \"The bird is the word\"\n",
    "\n",
    "    print (\"The size of the data is: {}\\n\".format(sys.getsizeof(a_great_sentence)))\n",
    "    print (\"The content of the data is: {}\\n\".format(a_great_sentence))\n",
    "\n",
    "    encoded_data, tree = huffman_encoding(a_great_sentence)\n",
    "\n",
    "    print (\"The size of the encoded data is: {}\\n\".format(sys.getsizeof(int(encoded_data, base=2))))\n",
    "    print (\"The content of the encoded data is: {}\\n\".format(encoded_data))\n",
    "\n",
    "    decoded_data = huffman_decoding(encoded_data, tree)\n",
    "\n",
    "    print (\"The size of the decoded data is: {}\\n\".format(sys.getsizeof(decoded_data)))\n",
    "    print (\"The content of the encoded data is: {}\\n\".format(decoded_data))"
   ]
  },
  {
   "cell_type": "code",
   "execution_count": null,
   "metadata": {},
   "outputs": [],
   "source": []
  }
 ],
 "metadata": {
  "kernelspec": {
   "display_name": "Python 3",
   "language": "python",
   "name": "python3"
  },
  "language_info": {
   "codemirror_mode": {
    "name": "ipython",
    "version": 3
   },
   "file_extension": ".py",
   "mimetype": "text/x-python",
   "name": "python",
   "nbconvert_exporter": "python",
   "pygments_lexer": "ipython3",
   "version": "3.7.4"
  }
 },
 "nbformat": 4,
 "nbformat_minor": 2
}
