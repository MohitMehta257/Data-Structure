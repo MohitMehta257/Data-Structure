{
 "cells": [
  {
   "cell_type": "code",
   "execution_count": null,
   "metadata": {},
   "outputs": [],
   "source": [
    "\n",
    "# Recursive Solution\n",
    "def keypad(num):\n",
    "    \n",
    "    # Base case\n",
    "    if num <= 1:\n",
    "        return [\"\"]\n",
    "\n",
    "    # If `num` is single digit, get the LIST having one element - the associated string\n",
    "    elif 1 < num <= 9:\n",
    "        return list(get_characters(num))\n",
    "\n",
    "    # Otherwise `num` >= 10. Find the unit's (last) digits of `num` \n",
    "    last_digit = num % 10\n",
    "    \n",
    "    '''Step 1'''\n",
    "    # Recursive call to the same function with “floor” of the `num//10`\n",
    "    small_output = keypad(num//10)               # returns a LIST of strings\n",
    "    \n",
    "    '''Step 2'''\n",
    "    # Get the associated string for the `last_digit`\n",
    "    keypad_string = get_characters(last_digit)   # returns a string\n",
    "    \n",
    "    '''Permute the characters of result obtained from Step 1 and Step 2'''\n",
    "    output = list()\n",
    "\n",
    "    '''\n",
    "    The Idea:\n",
    "    Each character of keypad_string must be appended to the \n",
    "    end of each string available in the small_output\n",
    "    '''\n",
    "    for character in keypad_string:\n",
    "        for item in small_output:\n",
    "            new_item = item + character\n",
    "            output.append(new_item)\n",
    "    \n",
    "    return output                                # returns a LIST of strings\n",
    "\n",
    "\n"
   ]
  }
 ],
 "metadata": {
  "kernelspec": {
   "display_name": "Python 3",
   "language": "python",
   "name": "python3"
  },
  "language_info": {
   "codemirror_mode": {
    "name": "ipython",
    "version": 3
   },
   "file_extension": ".py",
   "mimetype": "text/x-python",
   "name": "python",
   "nbconvert_exporter": "python",
   "pygments_lexer": "ipython3",
   "version": "3.7.4"
  }
 },
 "nbformat": 4,
 "nbformat_minor": 2
}
