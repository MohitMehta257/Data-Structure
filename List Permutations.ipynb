{
 "cells": [
  {
   "cell_type": "code",
   "execution_count": null,
   "metadata": {},
   "outputs": [],
   "source": [
    "\n",
    "# Recursive Solution \n",
    "\"\"\"\n",
    "Args: myList: list of items to be permuted\n",
    "Returns: compound list: list of permutation with each permuted item being represented by a list\n",
    "\"\"\"\n",
    "import copy                                # We will use `deepcopy()` function from the `copy` module\n",
    "\n",
    "def permute(inputList):\n",
    "    \n",
    "    # a compound list\n",
    "    finalCompoundList = []                  # compoundList to be returned \n",
    "    \n",
    "    # Terminaiton / Base condition\n",
    "    if len(inputList) == 0:\n",
    "        finalCompoundList.append([])\n",
    "        \n",
    "    else:\n",
    "        first_element = inputList[0]        # Pick one element to be permuted\n",
    "        after_first = slice(1, None)        # `after_first` is an object of type 'slice' class\n",
    "        rest_list = inputList[after_first]  # convert the `slice` object into a list\n",
    "        \n",
    "        # Recursive function call\n",
    "        sub_compoundList = permute(rest_list)\n",
    "        \n",
    "        # Iterate through all lists of the compoundList returned from previous call\n",
    "        for aList in sub_compoundList:\n",
    "            \n",
    "            # Permuted the `first_element` at all positions 0, 1, 2 ... len(aList) in each iteration\n",
    "            for j in range(0, len(aList) + 1): \n",
    "                \n",
    "                # A normal copy/assignment will change aList[j] element\n",
    "                bList = copy.deepcopy(aList)  \n",
    "                \n",
    "                # A new list with size +1 as compared to aList\n",
    "                # is created by inserting the `first_element` at position j in bList\n",
    "                bList.insert(j, first_element)\n",
    "                \n",
    "                # Append the newly created list to the finalCompoundList\n",
    "                finalCompoundList.append(bList)\n",
    "                \n",
    "    return finalCompoundList"
   ]
  }
 ],
 "metadata": {
  "kernelspec": {
   "display_name": "Python 3",
   "language": "python",
   "name": "python3"
  },
  "language_info": {
   "codemirror_mode": {
    "name": "ipython",
    "version": 3
   },
   "file_extension": ".py",
   "mimetype": "text/x-python",
   "name": "python",
   "nbconvert_exporter": "python",
   "pygments_lexer": "ipython3",
   "version": "3.7.4"
  }
 },
 "nbformat": 4,
 "nbformat_minor": 2
}
