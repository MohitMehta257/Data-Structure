{
 "cells": [
  {
   "cell_type": "code",
   "execution_count": 2,
   "metadata": {},
   "outputs": [],
   "source": [
    "## your code here\n",
    "## your code here\n",
    "class Node(object):\n",
    "    def __init__(self,value=None):\n",
    "        \n",
    "        self.value=None\n",
    "        self.left=None\n",
    "        self.right=None\n",
    "    def get_value(self):\n",
    "        return self.value\n",
    "    def set_value(self,value):\n",
    "        return self.value\n",
    "    def set_left_child(self,node):\n",
    "        self.left=node\n",
    "        \n",
    "    def set_right_child(self,node):\n",
    "        self.right=node\n",
    "        \n",
    "    def get_left_child(self):\n",
    "        return self.left\n",
    "    def get_right_child(self):\n",
    "        return self.right\n",
    "    def has_left_child(self):\n",
    "        return self.left!=None\n",
    "    def has_right_child(self):\n",
    "        return self.right!=None\n",
    "    "
   ]
  },
  {
   "cell_type": "code",
   "execution_count": 3,
   "metadata": {},
   "outputs": [
    {
     "name": "stdout",
     "output_type": "stream",
     "text": [
      "has left child? False\n",
      "has right child? False\n",
      "adding left and right children\n",
      "has left child? True\n",
      "has right child? True\n"
     ]
    }
   ],
   "source": [
    "## check\n",
    "\n",
    "node0 = Node(\"apple\")\n",
    "node1 = Node(\"banana\")\n",
    "node2 = Node(\"orange\")\n",
    "\n",
    "print(f\"has left child? {node0.has_left_child()}\")\n",
    "print(f\"has right child? {node0.has_right_child()}\")\n",
    "\n",
    "print(\"adding left and right children\")\n",
    "node0.set_left_child(node1)\n",
    "node0.set_right_child(node2)\n",
    "\n",
    "print(f\"has left child? {node0.has_left_child()}\")\n",
    "print(f\"has right child? {node0.has_right_child()}\")"
   ]
  },
  {
   "cell_type": "code",
   "execution_count": 5,
   "metadata": {},
   "outputs": [
    {
     "ename": "TypeError",
     "evalue": "'Node' object is not callable",
     "output_type": "error",
     "traceback": [
      "\u001b[1;31m---------------------------------------------------------------------------\u001b[0m",
      "\u001b[1;31mTypeError\u001b[0m                                 Traceback (most recent call last)",
      "\u001b[1;32m<ipython-input-5-67c743bac5e1>\u001b[0m in \u001b[0;36m<module>\u001b[1;34m\u001b[0m\n\u001b[1;32m----> 1\u001b[1;33m \u001b[0mnode0\u001b[0m\u001b[1;33m(\u001b[0m\u001b[1;33m)\u001b[0m\u001b[1;33m.\u001b[0m\u001b[0mvalue\u001b[0m\u001b[1;33m(\u001b[0m\u001b[1;33m)\u001b[0m\u001b[1;33m\u001b[0m\u001b[1;33m\u001b[0m\u001b[0m\n\u001b[0m",
      "\u001b[1;31mTypeError\u001b[0m: 'Node' object is not callable"
     ]
    }
   ],
   "source": [
    "node0().value()"
   ]
  },
  {
   "cell_type": "code",
   "execution_count": null,
   "metadata": {},
   "outputs": [],
   "source": []
  }
 ],
 "metadata": {
  "kernelspec": {
   "display_name": "Python 3",
   "language": "python",
   "name": "python3"
  },
  "language_info": {
   "codemirror_mode": {
    "name": "ipython",
    "version": 3
   },
   "file_extension": ".py",
   "mimetype": "text/x-python",
   "name": "python",
   "nbconvert_exporter": "python",
   "pygments_lexer": "ipython3",
   "version": "3.7.4"
  }
 },
 "nbformat": 4,
 "nbformat_minor": 2
}
