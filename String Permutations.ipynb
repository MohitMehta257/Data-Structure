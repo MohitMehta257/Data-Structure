{
 "cells": [
  {
   "cell_type": "code",
   "execution_count": null,
   "metadata": {},
   "outputs": [],
   "source": [
    "# Recursive Solution\n",
    "\"\"\"\n",
    "Param - input string\n",
    "Return - compound object: list of all permutations of the input string\n",
    "\"\"\"\n",
    "\n",
    "def permutations(string):\n",
    "    return return_permutations(string, 0)\n",
    "    \n",
    "def return_permutations(string, index):\n",
    "    # output to be returned \n",
    "    output = list()\n",
    "    \n",
    "    # Terminaiton / Base condition\n",
    "    if index >= len(string):\n",
    "        return [\"\"]\n",
    "    \n",
    "    # Recursive function call\n",
    "    small_output = return_permutations(string, index + 1)\n",
    "    \n",
    "    # Pick a character\n",
    "    current_char = string[index] \n",
    "    \n",
    "    # Iterate over each sub-string available in the list returned from previous call\n",
    "    for subString in small_output:\n",
    "        \n",
    "        # place the current character at different indices of the sub-string\n",
    "        for index in range(len(small_output[0]) + 1):\n",
    "            \n",
    "            # Make use of the sub-string of previous output, to create a new sub-string. \n",
    "            new_subString = subString[0: index] + current_char + subString[index:]\n",
    "            output.append(new_subString)\n",
    "\n",
    "    return output"
   ]
  }
 ],
 "metadata": {
  "kernelspec": {
   "display_name": "Python 3",
   "language": "python",
   "name": "python3"
  },
  "language_info": {
   "codemirror_mode": {
    "name": "ipython",
    "version": 3
   },
   "file_extension": ".py",
   "mimetype": "text/x-python",
   "name": "python",
   "nbconvert_exporter": "python",
   "pygments_lexer": "ipython3",
   "version": "3.7.4"
  }
 },
 "nbformat": 4,
 "nbformat_minor": 2
}
